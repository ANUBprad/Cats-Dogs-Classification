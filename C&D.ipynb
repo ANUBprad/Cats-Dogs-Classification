{
 "cells": [
  {
   "cell_type": "code",
   "execution_count": 1,
   "id": "initial_id",
   "metadata": {},
   "outputs": [],
   "source": [
    "# Import necessary libraries\n",
    "import matplotlib.pyplot as plt\n",
    "import tensorflow as tf\n",
    "import pandas as pd\n",
    "import numpy as np\n",
    "import os\n",
    "from PIL import Image\n",
    "import warnings\n",
    "warnings.filterwarnings('ignore')\n",
    "\n",
    "from tensorflow.keras.models import Sequential\n",
    "from tensorflow.keras.layers import Dense, Dropout, GlobalAveragePooling2D\n",
    "from tensorflow.keras.applications import MobileNetV2\n",
    "from tensorflow.keras.callbacks import ModelCheckpoint, EarlyStopping\n",
    "from sklearn.metrics import classification_report, confusion_matrix\n",
    "import shutil"
   ]
  },
  {
   "cell_type": "code",
   "execution_count": 2,
   "id": "410bd928",
   "metadata": {},
   "outputs": [
    {
     "name": "stdout",
     "output_type": "stream",
     "text": [
      "Num GPUs Available:  0\n"
     ]
    }
   ],
   "source": [
    "print('Num GPUs Available: ', len(tf.config.list_physical_devices('GPU')))"
   ]
  },
  {
   "cell_type": "code",
   "execution_count": 3,
   "id": "2fe3f96c-3604-47a4-af1d-5f72f7c82926",
   "metadata": {},
   "outputs": [],
   "source": [
    "cat_source = r'C:\\Users\\ANUBHAV\\OneDrive\\Pictures\\train\\cats'\n",
    "dog_source = r'C:\\Users\\ANUBHAV\\OneDrive\\Pictures\\train\\dogs'  \n",
    "output_dir = 'PetImages_cleaned'\n",
    "model_save_dir = 'trained_model'"
   ]
  },
  {
   "cell_type": "code",
   "execution_count": 4,
   "id": "62fc36c5-efb1-4448-81bb-22f43a9f7f0c",
   "metadata": {},
   "outputs": [],
   "source": [
    "os.makedirs(output_dir, exist_ok=True)\n",
    "for class_name in ['Cat', 'Dog']:\n",
    "    os.makedirs(os.path.join(output_dir, class_name), exist_ok=True)\n",
    "os.makedirs(model_save_dir, exist_ok=True)"
   ]
  },
  {
   "cell_type": "code",
   "execution_count": 5,
   "id": "343cf9af-1333-40e0-920c-5a79fc02b881",
   "metadata": {},
   "outputs": [],
   "source": [
    "# Custom function to verify image integrity\n",
    "def is_valid_image(file_path):\n",
    "    try:\n",
    "        img = Image.open(file_path)\n",
    "        img.verify()\n",
    "        return True\n",
    "    except (IOError, SyntaxError):\n",
    "        return False"
   ]
  },
  {
   "cell_type": "code",
   "execution_count": 6,
   "id": "24ba1f23-e05f-440c-a40a-fcad0cc45579",
   "metadata": {},
   "outputs": [],
   "source": [
    "# Copy cat images \n",
    "cat_count = 0\n",
    "for file_name in os.listdir(cat_source):\n",
    "    if file_name.endswith(('.jpg', '.jpeg', '.png')) and cat_count < 5000:\n",
    "        src_path = os.path.join(cat_source, file_name)\n",
    "        dst_path = os.path.join(output_dir, 'Cat', file_name)\n",
    "        if is_valid_image(src_path):\n",
    "            shutil.copy(src_path, dst_path)\n",
    "            cat_count += 1\n",
    "        else:\n",
    "            print(f'Skipping corrupted cat image: {src_path}')"
   ]
  },
  {
   "cell_type": "code",
   "execution_count": 7,
   "id": "7ec615b5-d44f-4414-a3f0-a88f0dfc8ed5",
   "metadata": {},
   "outputs": [],
   "source": [
    "# Copy dog images \n",
    "dog_count = 0\n",
    "for file_name in os.listdir(dog_source):\n",
    "    if file_name.startswith('dog') and dog_count < 5000:\n",
    "        src_path = os.path.join(dog_source, file_name)\n",
    "        dst_path = os.path.join(output_dir, 'Dog', file_name)\n",
    "        if is_valid_image(src_path):\n",
    "            img = Image.open(src_path).resize((64, 64))\n",
    "            img.save(dst_path)\n",
    "            dog_count += 1\n",
    "        else:\n",
    "            print(f'Skipping corrupted dog image: {src_path}')"
   ]
  },
  {
   "cell_type": "code",
   "execution_count": 8,
   "id": "ba56417a-dbf1-41e8-be0b-5062f8cbfed0",
   "metadata": {},
   "outputs": [
    {
     "name": "stdout",
     "output_type": "stream",
     "text": [
      "Copied 278 cat images and 277 dog images\n"
     ]
    }
   ],
   "source": [
    "print(f'Copied {cat_count} cat images and {dog_count} dog images')"
   ]
  },
  {
   "cell_type": "code",
   "execution_count": 9,
   "id": "4ee9e400-33f1-43ae-ad06-a0d050e28793",
   "metadata": {},
   "outputs": [],
   "source": [
    "# Optimized data pipeline with tf.data\n",
    "def create_dataset(directory, batch_size=64, image_size=(64, 64), subset='training'):\n",
    "    dataset = tf.keras.utils.image_dataset_from_directory(\n",
    "        directory,\n",
    "        image_size=image_size,\n",
    "        batch_size=batch_size,\n",
    "        label_mode='binary',\n",
    "        shuffle=True,\n",
    "        validation_split=0.2,\n",
    "        subset=subset,\n",
    "        seed=123\n",
    "    )\n",
    "    data_augmentation = tf.keras.Sequential([\n",
    "        tf.keras.layers.RandomFlip('horizontal'),\n",
    "        tf.keras.layers.RandomRotation(0.2),\n",
    "        tf.keras.layers.RandomZoom(0.2),\n",
    "        tf.keras.layers.RandomTranslation(0.2, 0.2),\n",
    "    ])\n",
    "    dataset = dataset.map(\n",
    "        lambda x, y: (data_augmentation(x, training=True), y),\n",
    "        num_parallel_calls=tf.data.AUTOTUNE\n",
    "    )\n",
    "    return dataset.cache().prefetch(tf.data.AUTOTUNE)"
   ]
  },
  {
   "cell_type": "code",
   "execution_count": 10,
   "id": "92d7d2e2-80ab-4d5a-902f-30fef10fbae4",
   "metadata": {},
   "outputs": [
    {
     "name": "stdout",
     "output_type": "stream",
     "text": [
      "Found 555 files belonging to 2 classes.\n",
      "Using 444 files for training.\n",
      "Found 555 files belonging to 2 classes.\n",
      "Using 111 files for validation.\n"
     ]
    }
   ],
   "source": [
    "train_ds = create_dataset(output_dir, subset='training')\n",
    "val_ds = create_dataset(output_dir, subset='validation')"
   ]
  },
  {
   "cell_type": "code",
   "execution_count": 11,
   "id": "187554d1-68b2-465a-9486-14ceb028828d",
   "metadata": {},
   "outputs": [],
   "source": [
    "# Define model with MobileNetV2\n",
    "base_model = MobileNetV2(input_shape=(64, 64, 3), include_top=False, weights='imagenet')\n",
    "base_model.trainable = False\n",
    "\n",
    "model = Sequential([\n",
    "    base_model,\n",
    "    GlobalAveragePooling2D(),\n",
    "    Dense(128, activation='relu'),\n",
    "    Dropout(0.3),\n",
    "    Dense(1, activation='sigmoid')\n",
    "])"
   ]
  },
  {
   "cell_type": "code",
   "execution_count": 12,
   "id": "bf2316aa-8428-48be-9cd7-024c100d0b17",
   "metadata": {},
   "outputs": [],
   "source": [
    "# Compile model\n",
    "model.compile(\n",
    "    loss='binary_crossentropy',\n",
    "    optimizer=tf.keras.optimizers.Adam(learning_rate=0.0001),\n",
    "    metrics=['accuracy']\n",
    ")"
   ]
  },
  {
   "cell_type": "code",
   "execution_count": 13,
   "id": "9c260afe-06a9-4dc6-9bfc-45511ca238cc",
   "metadata": {},
   "outputs": [],
   "source": [
    "# Define callbacks\n",
    "callbacks = [\n",
    "    EarlyStopping(monitor='val_loss', patience=3, restore_best_weights=True),\n",
    "    ModelCheckpoint(os.path.join(model_save_dir, 'best_model.keras'), monitor='val_loss', save_best_only=True)\n",
    "]"
   ]
  },
  {
   "cell_type": "code",
   "execution_count": 14,
   "id": "0ac70a8f-8184-497a-9aec-d5a420f9bd03",
   "metadata": {},
   "outputs": [
    {
     "data": {
      "text/html": [
       "<pre style=\"white-space:pre;overflow-x:auto;line-height:normal;font-family:Menlo,'DejaVu Sans Mono',consolas,'Courier New',monospace\"><span style=\"font-weight: bold\">Model: \"sequential_2\"</span>\n",
       "</pre>\n"
      ],
      "text/plain": [
       "\u001b[1mModel: \"sequential_2\"\u001b[0m\n"
      ]
     },
     "metadata": {},
     "output_type": "display_data"
    },
    {
     "data": {
      "text/html": [
       "<pre style=\"white-space:pre;overflow-x:auto;line-height:normal;font-family:Menlo,'DejaVu Sans Mono',consolas,'Courier New',monospace\">┏━━━━━━━━━━━━━━━━━━━━━━━━━━━━━━━━━━━━━━┳━━━━━━━━━━━━━━━━━━━━━━━━━━━━━┳━━━━━━━━━━━━━━━━━┓\n",
       "┃<span style=\"font-weight: bold\"> Layer (type)                         </span>┃<span style=\"font-weight: bold\"> Output Shape                </span>┃<span style=\"font-weight: bold\">         Param # </span>┃\n",
       "┡━━━━━━━━━━━━━━━━━━━━━━━━━━━━━━━━━━━━━━╇━━━━━━━━━━━━━━━━━━━━━━━━━━━━━╇━━━━━━━━━━━━━━━━━┩\n",
       "│ mobilenetv2_1.00_224 (<span style=\"color: #0087ff; text-decoration-color: #0087ff\">Functional</span>)    │ (<span style=\"color: #00d7ff; text-decoration-color: #00d7ff\">None</span>, <span style=\"color: #00af00; text-decoration-color: #00af00\">2</span>, <span style=\"color: #00af00; text-decoration-color: #00af00\">2</span>, <span style=\"color: #00af00; text-decoration-color: #00af00\">1280</span>)          │       <span style=\"color: #00af00; text-decoration-color: #00af00\">2,257,984</span> │\n",
       "├──────────────────────────────────────┼─────────────────────────────┼─────────────────┤\n",
       "│ global_average_pooling2d             │ (<span style=\"color: #00d7ff; text-decoration-color: #00d7ff\">None</span>, <span style=\"color: #00af00; text-decoration-color: #00af00\">1280</span>)                │               <span style=\"color: #00af00; text-decoration-color: #00af00\">0</span> │\n",
       "│ (<span style=\"color: #0087ff; text-decoration-color: #0087ff\">GlobalAveragePooling2D</span>)             │                             │                 │\n",
       "├──────────────────────────────────────┼─────────────────────────────┼─────────────────┤\n",
       "│ dense (<span style=\"color: #0087ff; text-decoration-color: #0087ff\">Dense</span>)                        │ (<span style=\"color: #00d7ff; text-decoration-color: #00d7ff\">None</span>, <span style=\"color: #00af00; text-decoration-color: #00af00\">128</span>)                 │         <span style=\"color: #00af00; text-decoration-color: #00af00\">163,968</span> │\n",
       "├──────────────────────────────────────┼─────────────────────────────┼─────────────────┤\n",
       "│ dropout (<span style=\"color: #0087ff; text-decoration-color: #0087ff\">Dropout</span>)                    │ (<span style=\"color: #00d7ff; text-decoration-color: #00d7ff\">None</span>, <span style=\"color: #00af00; text-decoration-color: #00af00\">128</span>)                 │               <span style=\"color: #00af00; text-decoration-color: #00af00\">0</span> │\n",
       "├──────────────────────────────────────┼─────────────────────────────┼─────────────────┤\n",
       "│ dense_1 (<span style=\"color: #0087ff; text-decoration-color: #0087ff\">Dense</span>)                      │ (<span style=\"color: #00d7ff; text-decoration-color: #00d7ff\">None</span>, <span style=\"color: #00af00; text-decoration-color: #00af00\">1</span>)                   │             <span style=\"color: #00af00; text-decoration-color: #00af00\">129</span> │\n",
       "└──────────────────────────────────────┴─────────────────────────────┴─────────────────┘\n",
       "</pre>\n"
      ],
      "text/plain": [
       "┏━━━━━━━━━━━━━━━━━━━━━━━━━━━━━━━━━━━━━━┳━━━━━━━━━━━━━━━━━━━━━━━━━━━━━┳━━━━━━━━━━━━━━━━━┓\n",
       "┃\u001b[1m \u001b[0m\u001b[1mLayer (type)                        \u001b[0m\u001b[1m \u001b[0m┃\u001b[1m \u001b[0m\u001b[1mOutput Shape               \u001b[0m\u001b[1m \u001b[0m┃\u001b[1m \u001b[0m\u001b[1m        Param #\u001b[0m\u001b[1m \u001b[0m┃\n",
       "┡━━━━━━━━━━━━━━━━━━━━━━━━━━━━━━━━━━━━━━╇━━━━━━━━━━━━━━━━━━━━━━━━━━━━━╇━━━━━━━━━━━━━━━━━┩\n",
       "│ mobilenetv2_1.00_224 (\u001b[38;5;33mFunctional\u001b[0m)    │ (\u001b[38;5;45mNone\u001b[0m, \u001b[38;5;34m2\u001b[0m, \u001b[38;5;34m2\u001b[0m, \u001b[38;5;34m1280\u001b[0m)          │       \u001b[38;5;34m2,257,984\u001b[0m │\n",
       "├──────────────────────────────────────┼─────────────────────────────┼─────────────────┤\n",
       "│ global_average_pooling2d             │ (\u001b[38;5;45mNone\u001b[0m, \u001b[38;5;34m1280\u001b[0m)                │               \u001b[38;5;34m0\u001b[0m │\n",
       "│ (\u001b[38;5;33mGlobalAveragePooling2D\u001b[0m)             │                             │                 │\n",
       "├──────────────────────────────────────┼─────────────────────────────┼─────────────────┤\n",
       "│ dense (\u001b[38;5;33mDense\u001b[0m)                        │ (\u001b[38;5;45mNone\u001b[0m, \u001b[38;5;34m128\u001b[0m)                 │         \u001b[38;5;34m163,968\u001b[0m │\n",
       "├──────────────────────────────────────┼─────────────────────────────┼─────────────────┤\n",
       "│ dropout (\u001b[38;5;33mDropout\u001b[0m)                    │ (\u001b[38;5;45mNone\u001b[0m, \u001b[38;5;34m128\u001b[0m)                 │               \u001b[38;5;34m0\u001b[0m │\n",
       "├──────────────────────────────────────┼─────────────────────────────┼─────────────────┤\n",
       "│ dense_1 (\u001b[38;5;33mDense\u001b[0m)                      │ (\u001b[38;5;45mNone\u001b[0m, \u001b[38;5;34m1\u001b[0m)                   │             \u001b[38;5;34m129\u001b[0m │\n",
       "└──────────────────────────────────────┴─────────────────────────────┴─────────────────┘\n"
      ]
     },
     "metadata": {},
     "output_type": "display_data"
    },
    {
     "data": {
      "text/html": [
       "<pre style=\"white-space:pre;overflow-x:auto;line-height:normal;font-family:Menlo,'DejaVu Sans Mono',consolas,'Courier New',monospace\"><span style=\"font-weight: bold\"> Total params: </span><span style=\"color: #00af00; text-decoration-color: #00af00\">2,422,081</span> (9.24 MB)\n",
       "</pre>\n"
      ],
      "text/plain": [
       "\u001b[1m Total params: \u001b[0m\u001b[38;5;34m2,422,081\u001b[0m (9.24 MB)\n"
      ]
     },
     "metadata": {},
     "output_type": "display_data"
    },
    {
     "data": {
      "text/html": [
       "<pre style=\"white-space:pre;overflow-x:auto;line-height:normal;font-family:Menlo,'DejaVu Sans Mono',consolas,'Courier New',monospace\"><span style=\"font-weight: bold\"> Trainable params: </span><span style=\"color: #00af00; text-decoration-color: #00af00\">164,097</span> (641.00 KB)\n",
       "</pre>\n"
      ],
      "text/plain": [
       "\u001b[1m Trainable params: \u001b[0m\u001b[38;5;34m164,097\u001b[0m (641.00 KB)\n"
      ]
     },
     "metadata": {},
     "output_type": "display_data"
    },
    {
     "data": {
      "text/html": [
       "<pre style=\"white-space:pre;overflow-x:auto;line-height:normal;font-family:Menlo,'DejaVu Sans Mono',consolas,'Courier New',monospace\"><span style=\"font-weight: bold\"> Non-trainable params: </span><span style=\"color: #00af00; text-decoration-color: #00af00\">2,257,984</span> (8.61 MB)\n",
       "</pre>\n"
      ],
      "text/plain": [
       "\u001b[1m Non-trainable params: \u001b[0m\u001b[38;5;34m2,257,984\u001b[0m (8.61 MB)\n"
      ]
     },
     "metadata": {},
     "output_type": "display_data"
    }
   ],
   "source": [
    "model.summary()"
   ]
  },
  {
   "cell_type": "code",
   "execution_count": 15,
   "id": "53b7becc-6b7d-4577-826c-bd09b7f97b77",
   "metadata": {},
   "outputs": [
    {
     "name": "stdout",
     "output_type": "stream",
     "text": [
      "Epoch 1/10\n",
      "\u001b[1m7/7\u001b[0m \u001b[32m━━━━━━━━━━━━━━━━━━━━\u001b[0m\u001b[37m\u001b[0m \u001b[1m37s\u001b[0m 2s/step - accuracy: 0.5448 - loss: 0.9328 - val_accuracy: 0.4595 - val_loss: 0.7783\n",
      "Epoch 2/10\n",
      "\u001b[1m7/7\u001b[0m \u001b[32m━━━━━━━━━━━━━━━━━━━━\u001b[0m\u001b[37m\u001b[0m \u001b[1m2s\u001b[0m 326ms/step - accuracy: 0.5665 - loss: 0.7829 - val_accuracy: 0.4595 - val_loss: 0.7787\n",
      "Epoch 3/10\n",
      "\u001b[1m7/7\u001b[0m \u001b[32m━━━━━━━━━━━━━━━━━━━━\u001b[0m\u001b[37m\u001b[0m \u001b[1m4s\u001b[0m 542ms/step - accuracy: 0.5251 - loss: 0.8136 - val_accuracy: 0.5315 - val_loss: 0.7702\n",
      "Epoch 4/10\n",
      "\u001b[1m7/7\u001b[0m \u001b[32m━━━━━━━━━━━━━━━━━━━━\u001b[0m\u001b[37m\u001b[0m \u001b[1m2s\u001b[0m 303ms/step - accuracy: 0.5792 - loss: 0.7492 - val_accuracy: 0.5045 - val_loss: 0.7727\n",
      "Epoch 5/10\n",
      "\u001b[1m7/7\u001b[0m \u001b[32m━━━━━━━━━━━━━━━━━━━━\u001b[0m\u001b[37m\u001b[0m \u001b[1m3s\u001b[0m 334ms/step - accuracy: 0.6028 - loss: 0.7047 - val_accuracy: 0.4865 - val_loss: 0.7759\n",
      "Epoch 6/10\n",
      "\u001b[1m7/7\u001b[0m \u001b[32m━━━━━━━━━━━━━━━━━━━━\u001b[0m\u001b[37m\u001b[0m \u001b[1m2s\u001b[0m 317ms/step - accuracy: 0.5876 - loss: 0.7039 - val_accuracy: 0.4955 - val_loss: 0.7735\n"
     ]
    }
   ],
   "source": [
    "history = model.fit(\n",
    "    train_ds,\n",
    "    epochs=10,\n",
    "    validation_data=val_ds,\n",
    "    callbacks=callbacks\n",
    ")"
   ]
  },
  {
   "cell_type": "code",
   "execution_count": 16,
   "id": "7bea8ab9-ddb0-4109-a750-3594c46b7e9a",
   "metadata": {},
   "outputs": [],
   "source": [
    "model.save(os.path.join(model_save_dir, 'cat_dog_classifier.keras'))"
   ]
  },
  {
   "cell_type": "code",
   "execution_count": 17,
   "id": "f6fa5115-c64c-4b18-a473-bf9d7b51ca01",
   "metadata": {},
   "outputs": [
    {
     "data": {
      "text/plain": [
       "<Figure size 640x480 with 0 Axes>"
      ]
     },
     "metadata": {},
     "output_type": "display_data"
    },
    {
     "data": {
      "image/png": "[encoded data removed]",
      "text/plain": [
       "<Figure size 640x480 with 1 Axes>"
      ]
     },
     "metadata": {},
     "output_type": "display_data"
    },
    {
     "data": {
      "text/plain": [
       "<Figure size 640x480 with 0 Axes>"
      ]
     },
     "metadata": {},
     "output_type": "display_data"
    }
   ],
   "source": [
    "# Plot training history\n",
    "history_df = pd.DataFrame(history.history)\n",
    "plt.figure()\n",
    "history_df.loc[:, ['loss', 'val_loss']].plot(title='Loss')\n",
    "plt.savefig(os.path.join(model_save_dir, 'loss_plot.png'))\n",
    "plt.figure()\n",
    "history_df.loc[:, ['accuracy', 'val_accuracy']].plot(title='Accuracy')\n",
    "plt.savefig(os.path.join(model_save_dir, 'accuracy_plot.png'))\n",
    "plt.close()"
   ]
  },
  {
   "cell_type": "code",
   "execution_count": 18,
   "id": "01f5d21b-6f0c-4859-b9a1-45f0c6e15aaf",
   "metadata": {},
   "outputs": [
    {
     "name": "stdout",
     "output_type": "stream",
     "text": [
      "\u001b[1m4/4\u001b[0m \u001b[32m━━━━━━━━━━━━━━━━━━━━\u001b[0m\u001b[37m\u001b[0m \u001b[1m11s\u001b[0m 2s/step\n",
      "Classification Report:\n",
      "              precision    recall  f1-score   support\n",
      "\n",
      "         Cat       0.54      0.61      0.57        57\n",
      "         Dog       0.52      0.44      0.48        54\n",
      "\n",
      "    accuracy                           0.53       111\n",
      "   macro avg       0.53      0.53      0.53       111\n",
      "weighted avg       0.53      0.53      0.53       111\n",
      "\n",
      "Confusion Matrix:\n",
      "[[35 22]\n",
      " [30 24]]\n"
     ]
    }
   ],
   "source": [
    "# Evaluate on validation set\n",
    "val_images, val_labels = [], []\n",
    "for images, labels in val_ds.unbatch().take(-1):\n",
    "    val_images.append(images.numpy())\n",
    "    val_labels.append(labels.numpy())\n",
    "val_images = np.array(val_images)\n",
    "val_labels = np.array(val_labels)\n",
    "val_predictions = (model.predict(val_images) > 0.5).astype('int32')\n",
    "print('Classification Report:')\n",
    "print(classification_report(val_labels, val_predictions, target_names=['Cat', 'Dog']))\n",
    "print('Confusion Matrix:')\n",
    "print(confusion_matrix(val_labels, val_predictions))"
   ]
  },
  {
   "cell_type": "code",
   "execution_count": 19,
   "id": "f6d5c37b-f84e-4d67-ad29-479cbd66765f",
   "metadata": {},
   "outputs": [],
   "source": [
    "# Prediction function with error handling\n",
    "def predict_image(image_path):\n",
    "    try:\n",
    "        img = Image.open(image_path)\n",
    "        img = img.resize((64, 64))\n",
    "        plt.imshow(img)\n",
    "        plt.savefig(os.path.join(model_save_dir, 'prediction_image.png'))\n",
    "        plt.close()\n",
    "        img = np.array(img) / 255.0\n",
    "        img = np.expand_dims(img, axis=0)\n",
    "        result = model.predict(img)\n",
    "        print(f'Prediction: {\"Dog\" if result[0][0] >= 0.5 else \"Cat\"} (Confidence: {result[0][0]:.2f})')\n",
    "    except Exception as e:\n",
    "        print(f'Error processing image {image_path}: {e}')"
   ]
  },
  {
   "cell_type": "code",
   "execution_count": 20,
   "id": "ee606b1f-6926-47cb-9682-52802e4c319c",
   "metadata": {},
   "outputs": [
    {
     "name": "stdout",
     "output_type": "stream",
     "text": [
      "\u001b[1m1/1\u001b[0m \u001b[32m━━━━━━━━━━━━━━━━━━━━\u001b[0m\u001b[37m\u001b[0m \u001b[1m1s\u001b[0m 503ms/step\n",
      "Prediction: Dog (Confidence: 0.58)\n",
      "\u001b[1m1/1\u001b[0m \u001b[32m━━━━━━━━━━━━━━━━━━━━\u001b[0m\u001b[37m\u001b[0m \u001b[1m0s\u001b[0m 210ms/step\n",
      "Prediction: Dog (Confidence: 0.52)\n"
     ]
    }
   ],
   "source": [
    "# Test predictions\n",
    "test_dir = output_dir\n",
    "for class_name in ['Cat', 'Dog']:\n",
    "    class_dir = os.path.join(test_dir, class_name)\n",
    "    test_image = os.path.join(class_dir, os.listdir(class_dir)[0]) if os.listdir(class_dir) else None\n",
    "    if test_image:\n",
    "        predict_image(test_image)"
   ]
  },
  {
   "cell_type": "code",
   "execution_count": null,
   "id": "a472c9ce-861a-4422-881e-5ef332b859cd",
   "metadata": {},
   "outputs": [],
   "source": []
  }
 ],
 "metadata": {
  "kernelspec": {
   "display_name": "Python 3 (ipykernel)",
   "language": "python",
   "name": "python3"
  },
  "language_info": {
   "codemirror_mode": {
    "name": "ipython",
    "version": 3
   },
   "file_extension": ".py",
   "mimetype": "text/x-python",
   "name": "python",
   "nbconvert_exporter": "python",
   "pygments_lexer": "ipython3",
   "version": "3.12.7"
  }
 },
 "nbformat": 4,
 "nbformat_minor": 5
}
